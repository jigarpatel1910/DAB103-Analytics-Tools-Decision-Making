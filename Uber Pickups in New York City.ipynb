{
 "cells": [
  {
   "cell_type": "code",
   "execution_count": 2,
   "id": "b97aa07a",
   "metadata": {},
   "outputs": [],
   "source": [
    "import pandas as pd\n",
    "import pandas as pd\n",
    "import seaborn as sns\n",
    "import numpy as np\n",
    "import matplotlib.pyplot as plt\n",
    "import os\n",
    "import numpy as np\n",
    "import pandas as pd\n",
    "import os\n",
    "\n",
    "import matplotlib.pyplot as plt\n",
    "import datashader as ds\n",
    "import colorcet as cc\n",
    "import folium\n",
    "\n",
    "from collections import defaultdict, OrderedDict\n",
    "from folium.plugins import HeatMapWithTime\n",
    "from datetime import datetime"
   ]
  },
  {
   "cell_type": "code",
   "execution_count": 3,
   "id": "b3cbfb8c",
   "metadata": {},
   "outputs": [
    {
     "data": {
      "text/plain": [
       "['uber-raw-data-apr14.csv',\n",
       " 'uber-raw-data-aug14.csv',\n",
       " 'uber-raw-data-janjune-15.csv',\n",
       " 'uber-raw-data-jul14.csv',\n",
       " 'uber-raw-data-jun14.csv',\n",
       " 'uber-raw-data-may14.csv',\n",
       " 'uber-raw-data-sep14.csv']"
      ]
     },
     "execution_count": 3,
     "metadata": {},
     "output_type": "execute_result"
    }
   ],
   "source": [
    "files=os.listdir(r'C:\\DAB_103_project\\uber-pickups-in-new-york-city')[-7:]\n",
    "files"
   ]
  },
  {
   "cell_type": "code",
   "execution_count": null,
   "id": "9a1e586b",
   "metadata": {},
   "outputs": [],
   "source": [
    "files.remove('uber-raw-data-janjune-15.csv')\n"
   ]
  },
  {
   "cell_type": "code",
   "execution_count": null,
   "id": "654cd2bf",
   "metadata": {},
   "outputs": [],
   "source": [
    "files"
   ]
  },
  {
   "cell_type": "code",
   "execution_count": 4,
   "id": "838d52e5",
   "metadata": {},
   "outputs": [],
   "source": [
    "final=pd.DataFrame()\n",
    "path=r'C:\\DAB_103_project\\uber-pickups-in-new-york-city'\n",
    "for file in files:\n",
    "    df=pd.read_csv(path+\"/\"+file,encoding='utf-8')\n",
    "    final=pd.concat([df,final])"
   ]
  },
  {
   "cell_type": "code",
   "execution_count": 5,
   "id": "e8f2271c",
   "metadata": {},
   "outputs": [
    {
     "data": {
      "text/plain": [
       "(18804806, 8)"
      ]
     },
     "execution_count": 5,
     "metadata": {},
     "output_type": "execute_result"
    }
   ],
   "source": [
    "final.shape"
   ]
  },
  {
   "cell_type": "code",
   "execution_count": 6,
   "id": "a6b250af",
   "metadata": {},
   "outputs": [],
   "source": [
    "df=final.copy()"
   ]
  },
  {
   "cell_type": "code",
   "execution_count": 7,
   "id": "9e4251cd",
   "metadata": {},
   "outputs": [
    {
     "data": {
      "text/html": [
       "<div>\n",
       "<style scoped>\n",
       "    .dataframe tbody tr th:only-of-type {\n",
       "        vertical-align: middle;\n",
       "    }\n",
       "\n",
       "    .dataframe tbody tr th {\n",
       "        vertical-align: top;\n",
       "    }\n",
       "\n",
       "    .dataframe thead th {\n",
       "        text-align: right;\n",
       "    }\n",
       "</style>\n",
       "<table border=\"1\" class=\"dataframe\">\n",
       "  <thead>\n",
       "    <tr style=\"text-align: right;\">\n",
       "      <th></th>\n",
       "      <th>Date/Time</th>\n",
       "      <th>Lat</th>\n",
       "      <th>Lon</th>\n",
       "      <th>Base</th>\n",
       "      <th>Dispatching_base_num</th>\n",
       "      <th>Pickup_date</th>\n",
       "      <th>Affiliated_base_num</th>\n",
       "      <th>locationID</th>\n",
       "    </tr>\n",
       "  </thead>\n",
       "  <tbody>\n",
       "    <tr>\n",
       "      <th>0</th>\n",
       "      <td>9/1/2014 0:01:00</td>\n",
       "      <td>40.2201</td>\n",
       "      <td>-74.0021</td>\n",
       "      <td>B02512</td>\n",
       "      <td>NaN</td>\n",
       "      <td>NaN</td>\n",
       "      <td>NaN</td>\n",
       "      <td>NaN</td>\n",
       "    </tr>\n",
       "    <tr>\n",
       "      <th>1</th>\n",
       "      <td>9/1/2014 0:01:00</td>\n",
       "      <td>40.7500</td>\n",
       "      <td>-74.0027</td>\n",
       "      <td>B02512</td>\n",
       "      <td>NaN</td>\n",
       "      <td>NaN</td>\n",
       "      <td>NaN</td>\n",
       "      <td>NaN</td>\n",
       "    </tr>\n",
       "    <tr>\n",
       "      <th>2</th>\n",
       "      <td>9/1/2014 0:03:00</td>\n",
       "      <td>40.7559</td>\n",
       "      <td>-73.9864</td>\n",
       "      <td>B02512</td>\n",
       "      <td>NaN</td>\n",
       "      <td>NaN</td>\n",
       "      <td>NaN</td>\n",
       "      <td>NaN</td>\n",
       "    </tr>\n",
       "    <tr>\n",
       "      <th>3</th>\n",
       "      <td>9/1/2014 0:06:00</td>\n",
       "      <td>40.7450</td>\n",
       "      <td>-73.9889</td>\n",
       "      <td>B02512</td>\n",
       "      <td>NaN</td>\n",
       "      <td>NaN</td>\n",
       "      <td>NaN</td>\n",
       "      <td>NaN</td>\n",
       "    </tr>\n",
       "    <tr>\n",
       "      <th>4</th>\n",
       "      <td>9/1/2014 0:11:00</td>\n",
       "      <td>40.8145</td>\n",
       "      <td>-73.9444</td>\n",
       "      <td>B02512</td>\n",
       "      <td>NaN</td>\n",
       "      <td>NaN</td>\n",
       "      <td>NaN</td>\n",
       "      <td>NaN</td>\n",
       "    </tr>\n",
       "  </tbody>\n",
       "</table>\n",
       "</div>"
      ],
      "text/plain": [
       "          Date/Time      Lat      Lon    Base Dispatching_base_num  \\\n",
       "0  9/1/2014 0:01:00  40.2201 -74.0021  B02512                  NaN   \n",
       "1  9/1/2014 0:01:00  40.7500 -74.0027  B02512                  NaN   \n",
       "2  9/1/2014 0:03:00  40.7559 -73.9864  B02512                  NaN   \n",
       "3  9/1/2014 0:06:00  40.7450 -73.9889  B02512                  NaN   \n",
       "4  9/1/2014 0:11:00  40.8145 -73.9444  B02512                  NaN   \n",
       "\n",
       "  Pickup_date Affiliated_base_num  locationID  \n",
       "0         NaN                 NaN         NaN  \n",
       "1         NaN                 NaN         NaN  \n",
       "2         NaN                 NaN         NaN  \n",
       "3         NaN                 NaN         NaN  \n",
       "4         NaN                 NaN         NaN  "
      ]
     },
     "execution_count": 7,
     "metadata": {},
     "output_type": "execute_result"
    }
   ],
   "source": [
    "df.head()"
   ]
  },
  {
   "cell_type": "code",
   "execution_count": null,
   "id": "77f154f3",
   "metadata": {},
   "outputs": [],
   "source": [
    "df.tail()"
   ]
  },
  {
   "cell_type": "code",
   "execution_count": null,
   "id": "fd3804c3",
   "metadata": {},
   "outputs": [],
   "source": [
    "df.dtypes"
   ]
  },
  {
   "cell_type": "code",
   "execution_count": null,
   "id": "f8b0739c",
   "metadata": {},
   "outputs": [],
   "source": [
    "df['Date/Time'] = pd.to_datetime(df['Date/Time'], format=\"%m/%d/%Y %H:%M:%S\")"
   ]
  },
  {
   "cell_type": "code",
   "execution_count": null,
   "id": "9846e6ed",
   "metadata": {},
   "outputs": [],
   "source": [
    "df.dtypes"
   ]
  },
  {
   "cell_type": "code",
   "execution_count": null,
   "id": "9de32d05",
   "metadata": {},
   "outputs": [],
   "source": [
    "df.head()"
   ]
  },
  {
   "cell_type": "code",
   "execution_count": null,
   "id": "3332dfd9",
   "metadata": {},
   "outputs": [],
   "source": [
    "df['weekday']=df['Date/Time'].dt.day_name()\n",
    "df['day']=df['Date/Time'].dt.day\n",
    "df['minute']=df['Date/Time'].dt.minute\n",
    "df['month']=df['Date/Time'].dt.month\n",
    "df['hour']=df['Date/Time'].dt.hour"
   ]
  },
  {
   "cell_type": "code",
   "execution_count": null,
   "id": "9f127a7d",
   "metadata": {},
   "outputs": [],
   "source": [
    "df.dtypes"
   ]
  },
  {
   "cell_type": "code",
   "execution_count": null,
   "id": "8283848f",
   "metadata": {
    "scrolled": true
   },
   "outputs": [],
   "source": [
    "df.isnull().sum()"
   ]
  },
  {
   "cell_type": "code",
   "execution_count": null,
   "id": "2151a911",
   "metadata": {},
   "outputs": [],
   "source": [
    "df['Base'].unique()"
   ]
  },
  {
   "cell_type": "code",
   "execution_count": null,
   "id": "30f024e7",
   "metadata": {},
   "outputs": [],
   "source": [
    "df['day'].unique()"
   ]
  },
  {
   "cell_type": "code",
   "execution_count": null,
   "id": "6cc38e73",
   "metadata": {},
   "outputs": [],
   "source": [
    "df['weekday'].unique()\n"
   ]
  },
  {
   "cell_type": "code",
   "execution_count": null,
   "id": "1bd442e9",
   "metadata": {},
   "outputs": [],
   "source": [
    "df.info()"
   ]
  },
  {
   "cell_type": "code",
   "execution_count": null,
   "id": "5749add7",
   "metadata": {},
   "outputs": [],
   "source": [
    "df.describe()"
   ]
  },
  {
   "cell_type": "code",
   "execution_count": null,
   "id": "fba8b8a1",
   "metadata": {},
   "outputs": [],
   "source": [
    "!pip install plotly"
   ]
  },
  {
   "cell_type": "code",
   "execution_count": null,
   "id": "6a8d0c71",
   "metadata": {},
   "outputs": [],
   "source": [
    "plt.hist(df.weekday, bins=7, range =(-.5,6.5), rwidth=.8, color='#0041FD', alpha=.4,)\n",
    "plt.xticks(range(7), 'Mon Tue Wed Thu Fri Sat Sun'.split())\n",
    "plt.xlabel('Weekdays')\n",
    "plt.ylabel('Total journay')\n",
    "plt.title('Total journay by weekdays')\n",
    ";"
   ]
  },
  {
   "cell_type": "code",
   "execution_count": null,
   "id": "3f4ebe43",
   "metadata": {},
   "outputs": [],
   "source": [
    "df = df[\n",
    "    df['Lon'].between(-74.25, -73.75) & \n",
    "    df['Lat'].between(40.5, 41)\n",
    "]\n",
    "print('Number of Pickups: {}'.format(len(df)))\n",
    "\n",
    "pickup_points = ds.Canvas().points(df, 'Lon', 'Lat', )\n",
    "ds.tf.set_background(ds.tf.shade(pickup_points, cmap=cc.b_rainbow_bgyr_35_85_c72), \"black\")"
   ]
  },
  {
   "cell_type": "code",
   "execution_count": null,
   "id": "667fa228",
   "metadata": {},
   "outputs": [],
   "source": [
    "df.head()"
   ]
  },
  {
   "cell_type": "code",
   "execution_count": null,
   "id": "29e812fa",
   "metadata": {},
   "outputs": [],
   "source": [
    "uber_15=pd.read_csv(r'C:\\DAB_103_project\\uber-pickups-in-new-york-city\\uber-raw-data-janjune-15.csv', encoding='utf-8')\n",
    "uber_15.head()"
   ]
  },
  {
   "cell_type": "code",
   "execution_count": null,
   "id": "92001bcd",
   "metadata": {},
   "outputs": [],
   "source": [
    "uber_15.info()"
   ]
  },
  {
   "cell_type": "raw",
   "id": "be3522e4",
   "metadata": {},
   "source": []
  },
  {
   "cell_type": "code",
   "execution_count": null,
   "id": "a786a0b3",
   "metadata": {},
   "outputs": [],
   "source": [
    "uber_15.isnull().sum()"
   ]
  },
  {
   "cell_type": "code",
   "execution_count": null,
   "id": "6184d066",
   "metadata": {},
   "outputs": [],
   "source": [
    "#### remove null values"
   ]
  },
  {
   "cell_type": "code",
   "execution_count": null,
   "id": "796d71fa",
   "metadata": {},
   "outputs": [],
   "source": [
    "uber=uber_15[uber_15['Affiliated_base_num'].notna()]"
   ]
  },
  {
   "cell_type": "code",
   "execution_count": null,
   "id": "78ffc112",
   "metadata": {},
   "outputs": [],
   "source": [
    "uber.isnull().sum()"
   ]
  },
  {
   "cell_type": "code",
   "execution_count": null,
   "id": "413a99d9",
   "metadata": {},
   "outputs": [],
   "source": [
    "uber['Pickup_date'].min()"
   ]
  },
  {
   "cell_type": "code",
   "execution_count": null,
   "id": "d7ef2087",
   "metadata": {},
   "outputs": [],
   "source": [
    "uber['Pickup_date'].max()"
   ]
  },
  {
   "cell_type": "code",
   "execution_count": null,
   "id": "22e63f47",
   "metadata": {},
   "outputs": [],
   "source": [
    "uber_15['Pickup_date'] =  pd.to_datetime(uber_15['Pickup_date'], format='%Y-%m-%d %H:%M:%S')"
   ]
  },
  {
   "cell_type": "code",
   "execution_count": null,
   "id": "6a8f43fe",
   "metadata": {},
   "outputs": [],
   "source": [
    "uber_15['weekday']=uber_15['Pickup_date'].dt.day_name()\n",
    "uber_15['day']=uber_15['Pickup_date'].dt.day\n",
    "uber_15['minute']=uber_15['Pickup_date'].dt.minute\n",
    "uber_15['month']=uber_15['Pickup_date'].dt.month\n",
    "uber_15['hour']=uber_15['Pickup_date'].dt.hour"
   ]
  },
  {
   "cell_type": "code",
   "execution_count": null,
   "id": "41f84e75",
   "metadata": {},
   "outputs": [],
   "source": [
    "uber_15.head()"
   ]
  },
  {
   "cell_type": "code",
   "execution_count": null,
   "id": "9c69b5e5",
   "metadata": {},
   "outputs": [],
   "source": [
    "df.Base.value_counts()"
   ]
  },
  {
   "cell_type": "code",
   "execution_count": null,
   "id": "02eed773",
   "metadata": {},
   "outputs": [],
   "source": [
    "base_names = {\"Base\": {'B02617':'Weiter', 'B02598':'Hinter','B02682':'Schmecken','B02764':'Danach-NY','B02512':'Unter'}}\n",
    "df =df.copy()\n",
    "df.replace(base_names, inplace=True)\n",
    "df.head()"
   ]
  },
  {
   "cell_type": "code",
   "execution_count": null,
   "id": "4a0ea269",
   "metadata": {},
   "outputs": [],
   "source": [
    "import plotly.express as px\n",
    "# Here we use a column of categorical data\n",
    "fig = px.histogram(df, x=\"Base\",\n",
    "                  title='Pickups Per Base',\n",
    "                   labels={'count':'No of Pickups'})\n",
    "fig.show()"
   ]
  },
  {
   "cell_type": "code",
   "execution_count": null,
   "id": "5825df87",
   "metadata": {},
   "outputs": [],
   "source": [
    "uber_foil=pd.read_csv(r'C:\\DAB_103_project\\uber-pickups-in-new-york-city/Uber-Jan-Feb-FOIL.csv')"
   ]
  },
  {
   "cell_type": "code",
   "execution_count": null,
   "id": "4bffd1e0",
   "metadata": {},
   "outputs": [],
   "source": [
    "uber_foil.head()"
   ]
  },
  {
   "cell_type": "code",
   "execution_count": null,
   "id": "73af41fc",
   "metadata": {},
   "outputs": [],
   "source": []
  },
  {
   "cell_type": "code",
   "execution_count": null,
   "id": "7aa40b5c",
   "metadata": {},
   "outputs": [],
   "source": [
    "uber_foil.info()"
   ]
  },
  {
   "cell_type": "code",
   "execution_count": null,
   "id": "49e8d3e8",
   "metadata": {},
   "outputs": [],
   "source": [
    "uber_foil.isnull().sum()"
   ]
  },
  {
   "cell_type": "code",
   "execution_count": null,
   "id": "315f8838",
   "metadata": {},
   "outputs": [],
   "source": [
    "uber_foil['dispatching_base_number'].unique()"
   ]
  },
  {
   "cell_type": "code",
   "execution_count": null,
   "id": "74c709e2",
   "metadata": {},
   "outputs": [],
   "source": [
    "sns.boxplot(x = 'dispatching_base_number', y = 'active_vehicles', data = uber_foil,)"
   ]
  },
  {
   "cell_type": "code",
   "execution_count": null,
   "id": "92f75fb2",
   "metadata": {},
   "outputs": [],
   "source": []
  }
 ],
 "metadata": {
  "kernelspec": {
   "display_name": "Python 3",
   "language": "python",
   "name": "python3"
  },
  "language_info": {
   "codemirror_mode": {
    "name": "ipython",
    "version": 3
   },
   "file_extension": ".py",
   "mimetype": "text/x-python",
   "name": "python",
   "nbconvert_exporter": "python",
   "pygments_lexer": "ipython3",
   "version": "3.8.8"
  }
 },
 "nbformat": 4,
 "nbformat_minor": 5
}
